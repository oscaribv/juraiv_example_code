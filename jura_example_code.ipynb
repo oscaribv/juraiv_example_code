{
 "cells": [
  {
   "cell_type": "markdown",
   "id": "8856577a",
   "metadata": {},
   "source": [
    "# Example code for the JURA IV workshop\n",
    "### Oscar Barragán, May 2023"
   ]
  },
  {
   "cell_type": "markdown",
   "id": "81dcf37f",
   "metadata": {},
   "source": [
    "Code that appears on Slide 11"
   ]
  },
  {
   "cell_type": "code",
   "execution_count": null,
   "id": "658894f1",
   "metadata": {},
   "outputs": [],
   "source": [
    "#Create a function that computes the Radial Velocity curve\n",
    "#input parameters: t_init(float), t_end(float), t0 (float), \n",
    "#    p (float), e(float), w(float), k(float), npts (integer,optional) \n",
    "#output: t_vector, rv (array) --> The time and RV of the curve we want to plot \n",
    "def rv_curve(t_init,t_end,t0,p,e,w,k,npts=1000):\n",
    "    t_vector = np.linspace(t_init,t_end,npts)\n",
    "    rv = k * np.cos(nu + w) + e * np.cos(w)\n",
    "    return t_vector, rv"
   ]
  },
  {
   "cell_type": "markdown",
   "id": "caeaa6aa",
   "metadata": {},
   "source": [
    "Code that appears on slide 12"
   ]
  },
  {
   "cell_type": "code",
   "execution_count": null,
   "id": "63e5bf32",
   "metadata": {},
   "outputs": [],
   "source": [
    "import numpy as np\n",
    "import matplotlib.pylab as plt\n",
    "\n",
    "#Create a function that computes the Radial Velocity curve\n",
    "#We know the orbital parameters of the planet and the Doppler semi-amplitude that the planet imprints in the star.\n",
    "#Time of periastron passage, t0\n",
    "#Orbital Period, p\n",
    "#Orbital Eccentricity, e\n",
    "#Angle of periastron passage, w\n",
    "#Doppler semi-amplitude, k\n",
    "#We also know two times t_init, t_end, in which our star will be observed.\n",
    "t0 = 0. #days but typically Barycentre Julian Date (BJD) \n",
    "p  = 10. #days\n",
    "e  = 0.5 \n",
    "w  = np.pi/3\n",
    "k  = 10 #m/s\n",
    "t_init = 0 #days\n",
    "t_end = 25 #days\n",
    "\n",
    "#Create a function that computes the Radial Velocity curve\n",
    "#input parameters: t_init(float), t_end(float), t0 (float), \n",
    "#    p (float), e(float), w(float), k(float), npts (integer,optional) \n",
    "#output: t_vector, rv (array) --> The time and RV of the curve we want to plot \n",
    "def rv_curve(t_init,t_end,t0,p,e,w,k,npts=1000):\n",
    "    t_vector = np.linspace(t_init,t_end,npts)\n",
    "    rv = k * np.cos(nu + w) + e * np.cos(w)\n",
    "    return t_vector, rv\n",
    "\n",
    "time, rv = rv_curve(t_init,t_end,t0,p,e,w,k)"
   ]
  },
  {
   "cell_type": "markdown",
   "id": "c669c65d",
   "metadata": {},
   "source": [
    "Code that appears on slide 24"
   ]
  },
  {
   "cell_type": "code",
   "execution_count": null,
   "id": "e906ea43",
   "metadata": {},
   "outputs": [],
   "source": [
    "#time to create the function that computes the true anomaly from the mean anomaly\n",
    "#This function calculates the true anomaly\n",
    "#input parameters: t (float), t0 (float), \n",
    "#    p (float), e(float)\n",
    "#output: true (array) --> The true anomaly of the planetary orbit\n",
    "def true_anomaly(t,t0,e,p):\n",
    "    mean = 2.*np.pi * ( t - t0) / p                       #mean anomaly\n",
    "    true = mean + e * np.sin(mean)                        #guess\n",
    "    f = true - e * np.sin(true) - mean                    #first value of function f\n",
    "    for i in range(len(t)):                               #iterate for all the values\n",
    "        while np.abs(f[i]) > 1e-6:                        #Newton-Raphson condition\n",
    "            f[i] = true[i] - e*np.sin(true[i]) - mean[i]  #calculate  f\n",
    "            df   = 1. - e * np.cos(true[i])               #Calculate df\n",
    "            true[i] = true[i] - f[i]/df                   #Update the eccentric anomaly\n",
    "    eimag = np.sqrt(1. - e*e)*np.sin(true)                #Time to calculate true anomaly\n",
    "    ereal = np.cos(true) - e\n",
    "    true  = np.arctan2(eimag,ereal)                       #Get True anomaly from ecc anomaly\n",
    "    return true\n",
    "\n",
    "#Create a function that computes the Radial Velocity curve\n",
    "#input parameters: t_init(float), t_end(float), t0 (float), \n",
    "#    p (float), e(float), w(float), k(float), npts (integer,optional) \n",
    "#output: t_vector, rv (array) --> The time and RV of the curve we want to plot \n",
    "def rv_curve(t_init,t_end,t0,p,e,w,k,npts=1000):\n",
    "    #Get the time vector given t_init, t_end, and the number of points\n",
    "    t_vector = np.linspace(t_init,t_end,npts)\n",
    "    #Get the true a nomaly from the true_anomaly function\n",
    "    nu =  true_anomaly(t_vector,t0,e,p)\n",
    "    #Compute the RV curve\n",
    "    rv = k * np.cos(nu + w) + e * np.cos(w)\n",
    "    return t_vector, rv\n"
   ]
  },
  {
   "cell_type": "markdown",
   "id": "37e0cc3c",
   "metadata": {},
   "source": [
    "Code that appears on slide 25"
   ]
  },
  {
   "cell_type": "code",
   "execution_count": null,
   "id": "deda1d0c",
   "metadata": {},
   "outputs": [],
   "source": [
    "import numpy as np\n",
    "import matplotlib.pylab as plt\n",
    "\n",
    "#Create a function that computes the Radial Velocity curve\n",
    "#We know the orbital parameters of the planet and the Doppler semi-amplitude that the planet imprints in the star.\n",
    "#Time of periastron passage, t0\n",
    "#Orbital Period, p\n",
    "#Orbital Eccentricity, e\n",
    "#Angle of periastron passage, w\n",
    "#Doppler semi-amplitude, k\n",
    "#We also know two times t_init, t_end, in which our star will be observed.\n",
    "t0 = 0. #days but typically Barycentre Julian Date (BJD) \n",
    "p  = 10. #days\n",
    "e  = 0.5 \n",
    "w  = np.pi/3\n",
    "k  = 10 #m/s\n",
    "t_init = 0 #days\n",
    "t_end = 25 #days\n",
    "\n",
    "#time to create the function that computes the true anomaly from the mean anomaly\n",
    "#This function calculates the true anomaly\n",
    "#input parameters: t (float), t0 (float), \n",
    "#    p (float), e(float)\n",
    "#output: true (array) --> The true anomaly of the planetary orbit\n",
    "def true_anomaly(t,t0,e,p):\n",
    "    mean = 2.*np.pi * ( t - t0) / p                       #mean anomaly\n",
    "    true = mean + e * np.sin(mean)                        #guess\n",
    "    f = true - e * np.sin(true) - mean                    #first value of function f\n",
    "    for i in range(len(t)):                               #iterate for all the values\n",
    "        while np.abs(f[i]) > 1e-6:                        #Newton-Raphson condition\n",
    "            f[i] = true[i] - e*np.sin(true[i]) - mean[i]  #calculate  f\n",
    "            df   = 1. - e * np.cos(true[i])               #Calculate df\n",
    "            true[i] = true[i] - f[i]/df                   #Update the eccentric anomaly\n",
    "    eimag = np.sqrt(1. - e*e)*np.sin(true)                #Time to calculate true anomaly\n",
    "    ereal = np.cos(true) - e\n",
    "    true  = np.arctan2(eimag,ereal)                       #Get True anomaly from ecc anomaly\n",
    "    return true\n",
    "\n",
    "#Create a function that computes the Radial Velocity curve\n",
    "#input parameters: t_init(float), t_end(float), t0 (float), \n",
    "#    p (float), e(float), w(float), k(float), npts (integer,optional) \n",
    "#output: t_vector, rv (array) --> The time and RV of the curve we want to plot \n",
    "def rv_curve(t_init,t_end,t0,p,e,w,k,npts=1000):\n",
    "    #Get the time vector given t_init, t_end, and the number of points\n",
    "    t_vector = np.linspace(t_init,t_end,npts)\n",
    "    #Get the true a nomaly from the true_anomaly function\n",
    "    nu =  true_anomaly(t_vector,t0,e,p)\n",
    "    #Compute the RV curve\n",
    "    rv = k * np.cos(nu + w) + e * np.cos(w)\n",
    "    return t_vector, rv\n",
    "\n",
    "t, rv = rv_curve(t_init,t_end,t0,p,e,w,k)\n",
    "\n",
    "# plot the RV curve\n",
    "plt.plot(t, rv)\n",
    "plt.xlabel(\"Time [d]\")\n",
    "plt.ylabel(\"RV [m/s]\")\n",
    "plt.show()"
   ]
  },
  {
   "cell_type": "markdown",
   "id": "5d069b64",
   "metadata": {},
   "source": [
    "### Python Classes"
   ]
  },
  {
   "cell_type": "markdown",
   "id": "7324f729",
   "metadata": {},
   "source": [
    "Code that appears on slide 37"
   ]
  },
  {
   "cell_type": "code",
   "execution_count": null,
   "id": "499337d1",
   "metadata": {},
   "outputs": [],
   "source": [
    "#Dog example\n",
    "class dog:\n",
    "    \n",
    "    #Define the attributes by calling the __init__ function\n",
    "    def __init__(self,name,age):\n",
    "        #We can use the input variables as attributes\n",
    "        self.name = name\n",
    "        self.age = age\n",
    "        #We can also create default attributes\n",
    "        self.awake = True\n",
    "        \n",
    "        \n",
    "    #Create the method that controls the sleep pattern of the dog\n",
    "    def order(self,order):\n",
    "        if order == 'sleep':\n",
    "            if self.awake:\n",
    "                print('Guau (OK, I will sleep, I am tired)')\n",
    "                #We can modify attributes inside the instances\n",
    "                self.awake = False\n",
    "            else:\n",
    "                pass #The dog is already sleeping, cannot talk\n",
    "        if order == 'awake':\n",
    "            if self.awake:\n",
    "                print('Guau guau guau (I am awake, and hungry, feed me!)')\n",
    "            else:\n",
    "                print('Guaaaau (Good morning!)')\n",
    "                #We can modify attributes inside the instances\n",
    "                self.awake = True "
   ]
  },
  {
   "cell_type": "markdown",
   "id": "610f57e4",
   "metadata": {},
   "source": [
    "Code that appears on slide 38"
   ]
  },
  {
   "cell_type": "code",
   "execution_count": null,
   "id": "12e1980e",
   "metadata": {},
   "outputs": [],
   "source": [
    "#Let us create an instance called timon, using the class dog\n",
    "timon = dog(name='timon',age=17)\n",
    "print(timon.name)\n",
    "print(timon.age)\n",
    "print(timon.awake)"
   ]
  },
  {
   "cell_type": "code",
   "execution_count": null,
   "id": "67d6efea",
   "metadata": {},
   "outputs": [],
   "source": [
    "#let us create an instance called lobo, using the class dog\n",
    "lobo = dog(name='lobo',age=10)\n",
    "print(lobo.name)\n",
    "print(lobo.age)\n",
    "print(lobo.awake)"
   ]
  },
  {
   "cell_type": "markdown",
   "id": "ec0baa32",
   "metadata": {},
   "source": [
    "Code that appears on slide 39"
   ]
  },
  {
   "cell_type": "code",
   "execution_count": null,
   "id": "bcfc0ade",
   "metadata": {},
   "outputs": [],
   "source": [
    "#Dog example\n",
    "class dog:\n",
    "    \n",
    "    #Define the attributes by calling the __init__ function\n",
    "    def __init__(self,name,age):\n",
    "        #We can use the input variables as attributes\n",
    "        self.name = name\n",
    "        self.age = age\n",
    "        #We can also create default attributes\n",
    "        self.awake = True\n",
    "        \n",
    "        \n",
    "    #Create the method that controls the sleep pattern of the dog\n",
    "    def order(self,order):\n",
    "        if order == 'sleep':\n",
    "            if self.awake:\n",
    "                print('Guau (OK, I will sleep, I am tired)')\n",
    "                #We can modify attributes inside the instances\n",
    "                self.awake = False\n",
    "            else:\n",
    "                pass #The dog is already sleeping, cannot talk\n",
    "        if order == 'awake':\n",
    "            if self.awake:\n",
    "                print('Guau guau guau (I am awake, and hungry, feed me!)')\n",
    "            else:\n",
    "                print('Guaaaau (Good morning!)')\n",
    "                #We can modify attributes inside the instances\n",
    "                self.awake = True "
   ]
  },
  {
   "cell_type": "markdown",
   "id": "2e00aabb",
   "metadata": {},
   "source": [
    "Code that appears on slide 40"
   ]
  },
  {
   "cell_type": "code",
   "execution_count": null,
   "id": "67f9a673",
   "metadata": {},
   "outputs": [],
   "source": [
    "timon.order('sleep')"
   ]
  },
  {
   "cell_type": "code",
   "execution_count": null,
   "id": "aee3f512",
   "metadata": {},
   "outputs": [],
   "source": [
    "print(timon.awake)"
   ]
  },
  {
   "cell_type": "code",
   "execution_count": null,
   "id": "8907a522",
   "metadata": {},
   "outputs": [],
   "source": [
    "timon.order('sleep')"
   ]
  },
  {
   "cell_type": "code",
   "execution_count": null,
   "id": "b1aead68",
   "metadata": {},
   "outputs": [],
   "source": [
    "timon.order('awake')"
   ]
  },
  {
   "cell_type": "code",
   "execution_count": null,
   "id": "126a855b",
   "metadata": {},
   "outputs": [],
   "source": [
    "print(timon.awake)"
   ]
  },
  {
   "cell_type": "code",
   "execution_count": null,
   "id": "6f697db2",
   "metadata": {},
   "outputs": [],
   "source": [
    "timon.order('awake')"
   ]
  },
  {
   "cell_type": "markdown",
   "id": "1049d076",
   "metadata": {},
   "source": [
    "# Transforming the rv_code to  code to a python class "
   ]
  },
  {
   "cell_type": "markdown",
   "id": "cf07e0cb",
   "metadata": {},
   "source": [
    "Code that appears on slide 42, 43, 44"
   ]
  },
  {
   "cell_type": "code",
   "execution_count": null,
   "id": "91b826e6",
   "metadata": {},
   "outputs": [],
   "source": [
    "import numpy as np\n",
    "import matplotlib.pylab as plt\n",
    "\n",
    "class rv_curve_class:\n",
    "    \n",
    "    \"\"\"\n",
    "    We know the orbital parameters of the planet and the Doppler \n",
    "    semi-amplitude that the planet imprints in the star.\n",
    "    Time of periastron passage, t0\n",
    "    Orbital Period, p\n",
    "    Orbital Eccentricity, e\n",
    "    Angle of periastron passage, w\n",
    "    Doppler semi-amplitude, k\n",
    "    We can also indicate two times t_init, t_end, in which our star will be observed,\n",
    "    and the number of points npts to use to create our data.\n",
    "    \"\"\"\n",
    "    \n",
    "    def __init__(self, t0, p, e, w, k, t_init=0, t_end=25,npts=1000):\n",
    "        #Asing all the input variables as attributes of the class\n",
    "        self.t0 = t0\n",
    "        self.p = p\n",
    "        self.e = e\n",
    "        self.w = w\n",
    "        self.k = k\n",
    "        self.t_init = t_init\n",
    "        self.t_end = t_end\n",
    "        self.npts = npts\n",
    "        #We can create a new attribute using previous attributes\n",
    "        self.t_vector = np.linspace(self.t_init, self.t_end, npts)    # get time vector\n",
    "\n",
    "    \n",
    "    # method to compute the true anomaly from the mean anomaly\n",
    "    def true_anomaly(self):\n",
    "        mean = 2. * np.pi * (self.t_vector - self.t0) / self.p   # mean anomaly\n",
    "        true = mean + self.e * np.sin(mean)          # initial guess for true anomaly\n",
    "        f = true - self.e * np.sin(true) - mean      # first value of function f\n",
    "        for i in range(len(self.t_vector)):                     # iterate for all the values\n",
    "            while np.abs(f[i]) > 1e-6:              # Newton-Raphson condition\n",
    "                f[i] = true[i] - self.e * np.sin(true[i]) - mean[i]  # calculate f\n",
    "                df = 1. - self.e * np.cos(true[i])  # calculate df\n",
    "                true[i] = true[i] - f[i]/df         # update the eccentric anomaly\n",
    "        eimag = np.sqrt(1. - self.e*self.e) * np.sin(true)    # calculate imaginary part of eccentric anomaly\n",
    "        ereal = np.cos(true) - self.e                         # calculate real part of eccentric anomaly\n",
    "        true = np.arctan2(eimag, ereal)                       # get true anomaly from eccentric anomaly\n",
    "        return true\n",
    "    \n",
    "    # function to compute the radial velocity curve\n",
    "    def rv_curve(self):\n",
    "        #Note how when we call the true_anomaly method, we do not need to give any input parameter\n",
    "        #All the parameters are attributes of the instance, so they are used in the method computationscre\n",
    "        nu = self.true_anomaly()                         # get true anomaly from true_anomaly function\n",
    "        rv = self.k * np.cos(nu + self.w) + self.e * np.cos(self.w)  # compute RV curve\n",
    "        return self.t_vector, rv\n"
   ]
  },
  {
   "cell_type": "markdown",
   "id": "25ba287d",
   "metadata": {},
   "source": [
    "Code that appears on slide 45"
   ]
  },
  {
   "cell_type": "code",
   "execution_count": null,
   "id": "71761855",
   "metadata": {},
   "outputs": [],
   "source": [
    "# create instance of the class\n",
    "rv = rv_curve_class(t0=0., p=10., e=0.5, w=np.pi/3, k=10., t_init=0., t_end=25.)\n",
    "\n",
    "# compute the RV curve\n",
    "t, rv = rv.rv_curve()\n",
    "\n",
    "# plot the RV curve\n",
    "plt.plot(t, rv)\n",
    "plt.xlabel(\"Time [d]\")\n",
    "plt.ylabel(\"RV [m/s]\")\n",
    "plt.show()"
   ]
  },
  {
   "cell_type": "markdown",
   "id": "d72cc936",
   "metadata": {},
   "source": [
    "Code that appears on slide 47"
   ]
  },
  {
   "cell_type": "code",
   "execution_count": null,
   "id": "53e1bfe4",
   "metadata": {},
   "outputs": [],
   "source": [
    "import numpy as np\n",
    "import matplotlib.pylab as plt\n",
    "\n",
    "class rv_curve_class:\n",
    "    \n",
    "    \"\"\"\n",
    "    We know the orbital parameters of the planet and the Doppler \n",
    "    semi-amplitude that the planet imprints in the star.\n",
    "    Time of periastron passage, t0\n",
    "    Orbital Period, p\n",
    "    Orbital Eccentricity, e\n",
    "    Angle of periastron passage, w\n",
    "    Doppler semi-amplitude, k\n",
    "    We can also indicate two times t_init, t_end, in which our star will be observed,\n",
    "    and the number of points npts to use to create our data.\n",
    "    \"\"\"\n",
    "    \n",
    "    def __init__(self, t0, p, e, w, k, t_init=0, t_end=25,npts=1000):\n",
    "        #Asing all the input variables as attributes of the class\n",
    "        self.t0 = t0\n",
    "        self.p = p\n",
    "        self.e = e\n",
    "        self.w = w\n",
    "        self.k = k\n",
    "        self.t_init = t_init\n",
    "        self.t_end = t_end\n",
    "        self.npts = npts\n",
    "        #We can create a new attribute using previous attributes\n",
    "        self.t_vector = np.linspace(self.t_init, self.t_end, npts)    # get time vector\n",
    "\n",
    "    \n",
    "    # method to compute the true anomaly from the mean anomaly\n",
    "    def true_anomaly(self):\n",
    "        mean = 2. * np.pi * (self.t_vector - self.t0) / self.p   # mean anomaly\n",
    "        true = mean + self.e * np.sin(mean)          # initial guess for true anomaly\n",
    "        f = true - self.e * np.sin(true) - mean      # first value of function f\n",
    "        for i in range(len(self.t_vector)):                     # iterate for all the values\n",
    "            while np.abs(f[i]) > 1e-6:              # Newton-Raphson condition\n",
    "                f[i] = true[i] - self.e * np.sin(true[i]) - mean[i]  # calculate f\n",
    "                df = 1. - self.e * np.cos(true[i])  # calculate df\n",
    "                true[i] = true[i] - f[i]/df         # update the eccentric anomaly\n",
    "        eimag = np.sqrt(1. - self.e*self.e) * np.sin(true)    # calculate imaginary part of eccentric anomaly\n",
    "        ereal = np.cos(true) - self.e                         # calculate real part of eccentric anomaly\n",
    "        true = np.arctan2(eimag, ereal)                       # get true anomaly from eccentric anomaly\n",
    "        return true\n",
    "    \n",
    "    # function to compute the radial velocity curve\n",
    "    def rv_curve(self):\n",
    "        #Note how when we call the true_anomaly method, we do not need to give any input parameter\n",
    "        #All the parameters are attributes of the instance, so they are used in the method computationscre\n",
    "        nu = self.true_anomaly()                         # get true anomaly from true_anomaly function\n",
    "        #Note how we can add the rv attribute to the instance\n",
    "        self.rv = self.k * np.cos(nu + self.w) + self.e * np.cos(self.w)  # compute RV curve\n",
    "\n",
    "    #Let's create a new method to plot the light curve\n",
    "    def plot(self):  \n",
    "        #Let us compute the curve\n",
    "        self.rv_curve()\n",
    "        # plot the RV curve\n",
    "        plt.plot(self.t_vector, self.rv)\n",
    "        plt.xlabel(\"Time [d]\")\n",
    "        plt.ylabel(\"RV [m/s]\")\n",
    "        plt.show()"
   ]
  },
  {
   "cell_type": "code",
   "execution_count": null,
   "id": "4d0452e6",
   "metadata": {},
   "outputs": [],
   "source": [
    "rv = rv_curve_class(t0=0., p=10., e=0.5, w=np.pi/3, k=10., t_init=0., t_end=25.)\n",
    "rv.plot()"
   ]
  }
 ],
 "metadata": {
  "kernelspec": {
   "display_name": "Python 3 (ipykernel)",
   "language": "python",
   "name": "python3"
  },
  "language_info": {
   "codemirror_mode": {
    "name": "ipython",
    "version": 3
   },
   "file_extension": ".py",
   "mimetype": "text/x-python",
   "name": "python",
   "nbconvert_exporter": "python",
   "pygments_lexer": "ipython3",
   "version": "3.8.10"
  }
 },
 "nbformat": 4,
 "nbformat_minor": 5
}
